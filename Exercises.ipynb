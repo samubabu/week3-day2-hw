{
 "cells": [
  {
   "cell_type": "markdown",
   "metadata": {},
   "source": [
    "#### Exercise 1 - Class Inheritance"
   ]
  },
  {
   "cell_type": "markdown",
   "metadata": {},
   "source": [
    "Create an Employee class that sets an employee's first name, last name, job title, salary, and email. The Employee class should have a class attribute for the raise amount set to 5% (1.05). Create a method that will apply the raise to an employee's salary."
   ]
  },
  {
   "cell_type": "code",
   "execution_count": 18,
   "metadata": {},
   "outputs": [],
   "source": [
    "class Employee:\n",
    "    \n",
    "    raise_amount=1.05\n",
    "    \n",
    "    def __init__(self, first, last, title, salary):\n",
    "        self.first_name=first.title()\n",
    "        self.last_name=last.title()\n",
    "        self.title=title.title()\n",
    "        self.salary=salary\n",
    "        self.email=f\"{first.lower()}.{last.lower()}@aolcompany.com\"\n",
    "        \n",
    "    def __str__(self):\n",
    "        return f\"{self.first_name}{self.last_name} ={self.title}\"\n",
    "    \n",
    "    def apply_raise(self):\n",
    "        print(f\"Congrats {self.first_name.title()} {self.last_name.title()}, you have got a raise\")\n",
    "        self.salary*=self.raise_amount\n",
    "        print (f\"Your new Salary is ${int(self.salary)}\")\n",
    "              \n"
   ]
  },
  {
   "cell_type": "markdown",
   "metadata": {},
   "source": [
    "Create two more classes that inherit from the Employee class. One for Sales and one for Development. Both of these classes will have the same attributes as the Employee.<br>\n",
    "- For the Sales employees, add a phone number attribute on instantiation using the super method. \n",
    "- Create a method on the Sales class that will Send a Follow Up Email. It should take in a customer name and \"send\" aka print a formatted email \"Dear *customer*, Thank you for your interest in our product. Please let me know if you have any questions. My email is *email* or my phone number is *phone number*. Thanks, *full name*\"\n",
    "- Create a method on the Development class called code that will print out \"*full name* is writing code\"."
   ]
  },
  {
   "cell_type": "code",
   "execution_count": 24,
   "metadata": {},
   "outputs": [],
   "source": [
    "class Sales(Employee):\n",
    "    def __init__(self, first, last, title, salary, phone):\n",
    "        super().__init__(first, last, title, salary)\n",
    "        self.phone=phone\n",
    "    \n",
    "    def followup(self,customer_name):\n",
    "        print(f\"\"\"\n",
    "        Dear {customer_name},\n",
    "        \n",
    "        Thank you for your interest in our product. Please let me know if you have any questions.\n",
    "        My email is {self.email} or my phone number is phone {self.phone}.\n",
    "        \n",
    "        Thanks,\n",
    "        {self.first_name} {self.last_name}\n",
    "        {self.title}\n",
    "        \"\"\")\n",
    "\n",
    "        \n",
    "class Development(Employee):\n",
    "    \n",
    "    def code(self):\n",
    "        print(f\"{self.first_name} {self.last_name} is writing  code ... \")\n",
    "    \n",
    "    \n",
    "    "
   ]
  },
  {
   "cell_type": "markdown",
   "metadata": {},
   "source": [
    "- Create an instance of a Sales Employee with a salary of $50,000.\n",
    "- Send follow up emails to \"Mike O'Neil\" and \"Hannah Stern\"\n",
    "- Give the employee a raise and print the salary"
   ]
  },
  {
   "cell_type": "code",
   "execution_count": 26,
   "metadata": {},
   "outputs": [
    {
     "name": "stdout",
     "output_type": "stream",
     "text": [
      "\n",
      "        Dear Mike O'Neil,\n",
      "        \n",
      "        Thank you for your interest in our product. Please let me know if you have any questions.\n",
      "        My email is sam.babu@aolcompany.com or my phone number is phone (333) 444 4444.\n",
      "        \n",
      "        Thanks,\n",
      "        Sam Babu\n",
      "        Software Engineer\n",
      "        \n",
      "\n",
      "        Dear Hannah Stern,\n",
      "        \n",
      "        Thank you for your interest in our product. Please let me know if you have any questions.\n",
      "        My email is sam.babu@aolcompany.com or my phone number is phone (333) 444 4444.\n",
      "        \n",
      "        Thanks,\n",
      "        Sam Babu\n",
      "        Software Engineer\n",
      "        \n",
      "CongratsSam Babu, you have got a raise\n",
      "Your new Salary is $168000\n"
     ]
    }
   ],
   "source": [
    "sales_emp = Sales('Sam','Babu','Software Engineer',160000,'(333) 444 4444')\n",
    "sales_emp.followup (\"Mike O'Neil\")\n",
    "sales_emp.followup ('Hannah Stern')\n",
    "sales_emp.apply_raise()"
   ]
  },
  {
   "cell_type": "markdown",
   "metadata": {},
   "source": [
    "- Create an instance of a Development Employee with a salary of $100,000\n",
    "- Write some code with this employee\n",
    "- Give the employee a raise and print the salary"
   ]
  },
  {
   "cell_type": "code",
   "execution_count": 5,
   "metadata": {},
   "outputs": [
    {
     "ename": "NameError",
     "evalue": "name 'Development' is not defined",
     "output_type": "error",
     "traceback": [
      "\u001b[0;31m---------------------------------------------------------------------------\u001b[0m",
      "\u001b[0;31mNameError\u001b[0m                                 Traceback (most recent call last)",
      "Input \u001b[0;32mIn [5]\u001b[0m, in \u001b[0;36m<cell line: 1>\u001b[0;34m()\u001b[0m\n\u001b[0;32m----> 1\u001b[0m dev_emp \u001b[38;5;241m=\u001b[39m \u001b[43mDevelopment\u001b[49m (\u001b[38;5;124m'\u001b[39m\u001b[38;5;124mObama\u001b[39m\u001b[38;5;124m'\u001b[39m, \u001b[38;5;124m'\u001b[39m\u001b[38;5;124mBadu\u001b[39m\u001b[38;5;124m'\u001b[39m,\u001b[38;5;124m'\u001b[39m\u001b[38;5;124mSoftware Engineer\u001b[39m\u001b[38;5;124m'\u001b[39m, \u001b[38;5;241m100000\u001b[39m)\n",
      "\u001b[0;31mNameError\u001b[0m: name 'Development' is not defined"
     ]
    }
   ],
   "source": [
    "dev_emp = Development ('Obama', 'Badu','Software Engineer', 100000)"
   ]
  },
  {
   "cell_type": "markdown",
   "metadata": {},
   "source": [
    "#### Exercise 2 - Importing Modules"
   ]
  },
  {
   "cell_type": "markdown",
   "metadata": {},
   "source": [
    "In VS Code, create a module titled `geometry` and add two functions in there. One that will calculate the area of a circle given a radius. The second will find the hypotenuse of a right angle given the two sides. Import the module or the functions from the module and use it to find the answers to the below questions"
   ]
  },
  {
   "cell_type": "code",
   "execution_count": 9,
   "metadata": {},
   "outputs": [
    {
     "ename": "SyntaxError",
     "evalue": "invalid syntax (1474061939.py, line 5)",
     "output_type": "error",
     "traceback": [
      "\u001b[0;36m  Input \u001b[0;32mIn [9]\u001b[0;36m\u001b[0m\n\u001b[0;31m    area = geometry.circle_area (radius)\u001b[0m\n\u001b[0m    ^\u001b[0m\n\u001b[0;31mSyntaxError\u001b[0m\u001b[0;31m:\u001b[0m invalid syntax\n"
     ]
    }
   ],
   "source": [
    "import geometry\n",
    "print (geometry)\n",
    "\n"
   ]
  },
  {
   "cell_type": "markdown",
   "metadata": {},
   "source": [
    "What is the area of a circle with a radius of 7cm?"
   ]
  },
  {
   "cell_type": "code",
   "execution_count": 1,
   "metadata": {},
   "outputs": [
    {
     "ename": "SyntaxError",
     "evalue": "invalid syntax (2227650721.py, line 2)",
     "output_type": "error",
     "traceback": [
      "\u001b[0;36m  Input \u001b[0;32mIn [1]\u001b[0;36m\u001b[0m\n\u001b[0;31m    area = geometry.circle_area(radius)\u001b[0m\n\u001b[0m    ^\u001b[0m\n\u001b[0;31mSyntaxError\u001b[0m\u001b[0;31m:\u001b[0m invalid syntax\n"
     ]
    }
   ],
   "source": [
    "radius = float(input('Radius:')\n",
    "area = geometry.circle_area(radius)\n",
    "print(f\"The area of a circle with a radius of {radius}cm is {area:.2f}cm\")"
   ]
  },
  {
   "cell_type": "markdown",
   "metadata": {},
   "source": [
    "What is the hypotenuse of a right angle with sides of 3in and 4in?"
   ]
  },
  {
   "cell_type": "code",
   "execution_count": 2,
   "metadata": {},
   "outputs": [
    {
     "name": "stdout",
     "output_type": "stream",
     "text": [
      "sidealength1\n",
      "sideblength1\n"
     ]
    },
    {
     "ename": "NameError",
     "evalue": "name 'geometry' is not defined",
     "output_type": "error",
     "traceback": [
      "\u001b[0;31m---------------------------------------------------------------------------\u001b[0m",
      "\u001b[0;31mNameError\u001b[0m                                 Traceback (most recent call last)",
      "Input \u001b[0;32mIn [2]\u001b[0m, in \u001b[0;36m<cell line: 3>\u001b[0;34m()\u001b[0m\n\u001b[1;32m      1\u001b[0m sidea\u001b[38;5;241m=\u001b[39m\u001b[38;5;28mfloat\u001b[39m(\u001b[38;5;28minput\u001b[39m(\u001b[38;5;124m'\u001b[39m\u001b[38;5;124msidealength\u001b[39m\u001b[38;5;124m'\u001b[39m))\n\u001b[1;32m      2\u001b[0m sideb\u001b[38;5;241m=\u001b[39m\u001b[38;5;28mfloat\u001b[39m(\u001b[38;5;28minput\u001b[39m(\u001b[38;5;124m'\u001b[39m\u001b[38;5;124msideblength\u001b[39m\u001b[38;5;124m'\u001b[39m))\n\u001b[0;32m----> 3\u001b[0m hypotenuse\u001b[38;5;241m=\u001b[39m\u001b[43mgeometry\u001b[49m\u001b[38;5;241m.\u001b[39mget_hypotenuse(sidea,sideb)\n\u001b[1;32m      4\u001b[0m \u001b[38;5;28mprint\u001b[39m(\u001b[38;5;124mf\u001b[39m\u001b[38;5;124m\"\u001b[39m\u001b[38;5;124mThe hypotenuse of a right angel triangle with side of \u001b[39m\u001b[38;5;132;01m{\u001b[39;00msidea\u001b[38;5;132;01m}\u001b[39;00m\u001b[38;5;124min and \u001b[39m\u001b[38;5;132;01m{\u001b[39;00msideb\u001b[38;5;132;01m}\u001b[39;00m\u001b[38;5;124min is \u001b[39m\u001b[38;5;132;01m{\u001b[39;00mhypotenuse\u001b[38;5;132;01m}\u001b[39;00m\u001b[38;5;124m in\u001b[39m\u001b[38;5;124m\"\u001b[39m)\n",
      "\u001b[0;31mNameError\u001b[0m: name 'geometry' is not defined"
     ]
    }
   ],
   "source": [
    "sidea=float(input('sidealength'))\n",
    "sideb=float(input('sideblength'))\n",
    "hypotenuse=geometry.hypotenuse(sidea,sideb)\n",
    "print(f\"The hypotenuse of a right angel triangle with side of {sidea}in and {sideb}in is {hypotenuse} in\")"
   ]
  },
  {
   "cell_type": "code",
   "execution_count": null,
   "metadata": {},
   "outputs": [],
   "source": [
    "9"
   ]
  }
 ],
 "metadata": {
  "kernelspec": {
   "display_name": "Python 3 (ipykernel)",
   "language": "python",
   "name": "python3"
  },
  "language_info": {
   "codemirror_mode": {
    "name": "ipython",
    "version": 3
   },
   "file_extension": ".py",
   "mimetype": "text/x-python",
   "name": "python",
   "nbconvert_exporter": "python",
   "pygments_lexer": "ipython3",
   "version": "3.9.12"
  },
  "vscode": {
   "interpreter": {
    "hash": "aee8b7b246df8f9039afb4144a1f6fd8d2ca17a180786b69acc140d282b71a49"
   }
  }
 },
 "nbformat": 4,
 "nbformat_minor": 4
}
