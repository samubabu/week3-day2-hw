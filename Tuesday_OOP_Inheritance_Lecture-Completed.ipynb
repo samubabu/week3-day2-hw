{
 "cells": [
  {
   "cell_type": "markdown",
   "metadata": {},
   "source": [
    "# Object-Oriented-Programming (OOP)"
   ]
  },
  {
   "cell_type": "markdown",
   "metadata": {},
   "source": [
    "## Tasks Today:\n",
    "\n",
    "   \n",
    "1) <b>Dunder Methods</b> <br>\n",
    " &nbsp;&nbsp;&nbsp;&nbsp; a) The \\__str\\__() Methodo <br>\n",
    " &nbsp;&nbsp;&nbsp;&nbsp; b) The \\__repr\\__() Method <br>\n",
    " &nbsp;&nbsp;&nbsp;&nbsp; c) In-Class Exercise #1 - Create a class Animal that displays the species and animal name when printed <br>  \n",
    "2) <b>Inheritance</b> <br>\n",
    " &nbsp;&nbsp;&nbsp;&nbsp; a) Syntax for Inheriting from a Parent Class <br>\n",
    " &nbsp;&nbsp;&nbsp;&nbsp; b) The \\__init\\__() Method for a Child Class (super()) <br>\n",
    " &nbsp;&nbsp;&nbsp;&nbsp; c) Defining Attributes and Methods for the Child Class <br>\n",
    " &nbsp;&nbsp;&nbsp;&nbsp; d) Method Overriding <br>\n",
    " &nbsp;&nbsp;&nbsp;&nbsp; e) In-Class Exercise #2 - Create a class 'Ford' that inherits from 'Car' class and initialize it as a Blue Ford Explorer with 4 wheels using the super() method <br>\n",
    "3) <b>Modules</b> <br>\n",
    " &nbsp;&nbsp;&nbsp;&nbsp; a) Importing Modules<br>\n",
    " &nbsp;&nbsp;&nbsp;&nbsp; b) Importing from modules <br>\n",
    " &nbsp;&nbsp;&nbsp;&nbsp; c) Aliasing <br>\n",
    " &nbsp;&nbsp;&nbsp;&nbsp; d) Creating Modules <br>\n",
    " &nbsp;&nbsp;&nbsp;&nbsp; e) In-Class Exercise #2 - Create a class 'Ford' <br>\n",
    "4) <b>Exercises</b> <br>\n",
    " &nbsp;&nbsp;&nbsp;&nbsp; a) Exercise #1 - Turn the shopping cart program from yesterday into an object-oriented program <br>"
   ]
  },
  {
   "cell_type": "markdown",
   "metadata": {},
   "source": [
    "### Warm Up"
   ]
  },
  {
   "cell_type": "markdown",
   "metadata": {},
   "source": [
    "Create two classes: one for a user that includes username, email, and password. Another for posts that has a title, body, and author. The author should be an instance of user."
   ]
  },
  {
   "cell_type": "code",
   "execution_count": 3,
   "metadata": {},
   "outputs": [
    {
     "name": "stdout",
     "output_type": "stream",
     "text": [
      "{'username': 'brians', 'email': 'xyz@gmaal.com', 'password': 'abc124'}\n",
      "{'title': 'Python Rocks!', 'body': 'Python is cool', 'author': <__main__.User object at 0x7f89e614a7f0>}\n"
     ]
    }
   ],
   "source": [
    "class User:\n",
    "    def __init__(self, username, email, password):\n",
    "        \n",
    "        self.username = username\n",
    "        self.email = email\n",
    "        self.password = password\n",
    "\n",
    "        \n",
    "    def add_author(self, author):\n",
    "        self.author.append(author)\n",
    "        #print(f\"{user.username} has been address to the album at postition #{len(self.song_list)}\")\n",
    "        \n",
    "\n",
    "        \n",
    "        \n",
    "class Post:\n",
    "    def __init__(self, title, body, author):\n",
    "        self.title = title\n",
    "        self.body = body\n",
    "        self.author=author\n",
    "        \n",
    "user1=User('brians', 'xyz@gmaal.com', 'abc124')\n",
    "print(user1.__dict__)\n",
    "\n",
    "post1=Post('Python Rocks!','Python is cool',user1)\n",
    "\n",
    "print(post1.__dict__)\n",
    "        "
   ]
  },
  {
   "cell_type": "code",
   "execution_count": 4,
   "metadata": {},
   "outputs": [
    {
     "data": {
      "text/plain": [
       "'xyz@gmaal.com'"
      ]
     },
     "execution_count": 4,
     "metadata": {},
     "output_type": "execute_result"
    }
   ],
   "source": [
    "post1.author.email"
   ]
  },
  {
   "cell_type": "markdown",
   "metadata": {},
   "source": [
    "## Dunder Methods"
   ]
  },
  {
   "cell_type": "markdown",
   "metadata": {},
   "source": [
    "#### \\__str\\__()"
   ]
  },
  {
   "cell_type": "code",
   "execution_count": 1,
   "metadata": {},
   "outputs": [
    {
     "name": "stdout",
     "output_type": "stream",
     "text": [
      "red Toyota Camry\n",
      "green Ford Focus\n"
     ]
    }
   ],
   "source": [
    "class Car:\n",
    "    def __init__(self, color, make, model):\n",
    "        self.color = color\n",
    "        self.make = make\n",
    "        self.model = model\n",
    "        \n",
    "    def __str__(self):\n",
    "        return f'{self.color} {self.make} {self.model}'\n",
    "    \n",
    "car1 = Car('red', 'Toyota', 'Camry')\n",
    "car2 = Car('green', 'Ford', 'Focus')\n",
    "\n",
    "print(car1)\n",
    "print(car2)"
   ]
  },
  {
   "cell_type": "code",
   "execution_count": 6,
   "metadata": {},
   "outputs": [
    {
     "name": "stdout",
     "output_type": "stream",
     "text": [
      "No. of vowels : 3\n"
     ]
    }
   ],
   "source": [
    "def vowel_count(str):\n",
    "      \n",
    "  \n",
    "    count = 0\n",
    "      \n",
    "   \n",
    "    vowel = set(\"aeiouAEIOU\")\n",
    "      \n",
    "  \n",
    "    for alphabet in str:\n",
    "      \n",
    "      \n",
    "        if alphabet in vowel:\n",
    "            count = count + 1\n",
    "      \n",
    "    print(\"No. of vowels :\", count)\n",
    "      \n",
    "\n",
    "str = \"Hello World\"\n",
    "  \n",
    "# Function Call\n",
    "vowel_count(str)"
   ]
  },
  {
   "cell_type": "markdown",
   "metadata": {},
   "source": [
    "#### \\__repr\\__()"
   ]
  },
  {
   "cell_type": "code",
   "execution_count": 8,
   "metadata": {
    "scrolled": true
   },
   "outputs": [
    {
     "name": "stdout",
     "output_type": "stream",
     "text": [
      "red Toyota Camry\n",
      "green Ford Focus\n"
     ]
    }
   ],
   "source": [
    "class Car:\n",
    "    def __init__(self, color, make, model):\n",
    "        self.color = color\n",
    "        self.make = make\n",
    "        self.model = model\n",
    "        \n",
    "    def __str__(self):\n",
    "        return f'{self.color} {self.make} {self.model}'\n",
    "    \n",
    "    def __repr__(self):\n",
    "        return f'<Car | {self.make} {self.model}>'\n",
    "    \n",
    "car1 = Car('red', 'Toyota', 'Camry')\n",
    "car2 = Car('green', 'Ford', 'Focus')\n",
    "\n",
    "print(car1)\n",
    "print(car2)"
   ]
  },
  {
   "cell_type": "code",
   "execution_count": 9,
   "metadata": {},
   "outputs": [
    {
     "data": {
      "text/plain": [
       "<Car | Toyota Camry>"
      ]
     },
     "execution_count": 9,
     "metadata": {},
     "output_type": "execute_result"
    }
   ],
   "source": [
    "car1\n"
   ]
  },
  {
   "cell_type": "code",
   "execution_count": 10,
   "metadata": {},
   "outputs": [
    {
     "data": {
      "text/plain": [
       "<Car | Ford Focus>"
      ]
     },
     "execution_count": 10,
     "metadata": {},
     "output_type": "execute_result"
    }
   ],
   "source": [
    "car2"
   ]
  },
  {
   "cell_type": "code",
   "execution_count": 11,
   "metadata": {},
   "outputs": [
    {
     "name": "stdout",
     "output_type": "stream",
     "text": [
      "[<Car | Toyota Camry>, <Car | Ford Focus>]\n"
     ]
    }
   ],
   "source": [
    "cars=[car1, car2]\n",
    "print(cars)"
   ]
  },
  {
   "cell_type": "markdown",
   "metadata": {},
   "source": [
    "#### \\__lt\\__(), \\__lte\\__(), \\__eq\\__(), etc"
   ]
  },
  {
   "cell_type": "code",
   "execution_count": 5,
   "metadata": {},
   "outputs": [
    {
     "name": "stdout",
     "output_type": "stream",
     "text": [
      "Markers are cheaper than the eraser\n"
     ]
    }
   ],
   "source": [
    "class Item:\n",
    "    def __init__(self, name, price, quantity):\n",
    "        self.name = name\n",
    "        self.price = price\n",
    "        self.quantity = quantity\n",
    "        \n",
    "    def __str__(self):\n",
    "        return f\"{self.name}: {self.price} x {self.quantity}\"\n",
    "    \n",
    "    def __repr__(self):\n",
    "        return f\"<Item | {self.name}>\"\n",
    "    \n",
    "    def __lt__(self, other_item):\n",
    "        return self.price < other_item.price\n",
    "    \n",
    "    def __le__(self, other_item):\n",
    "        return self.price <= other_item.price\n",
    "    \n",
    "    def __eq__(self, other_item):\n",
    "        return self.price == other_item.price\n",
    "    \n",
    "    def __add__(self, value_to_add):\n",
    "        self.quantity += value_to_add\n",
    "        return self\n",
    "    \n",
    "    def __sub__(self, value_to_subtract):\n",
    "        self.quantity -= value_to_subtract\n",
    "        return self\n",
    "    \n",
    "item1 = Item('Marker', 1.49, 2)\n",
    "item2 = Item('Eraser', 1.49, 1)\n",
    "\n",
    "if item1 <= item2:\n",
    "    print('Markers are cheaper than the eraser')"
   ]
  },
  {
   "cell_type": "code",
   "execution_count": 6,
   "metadata": {},
   "outputs": [
    {
     "name": "stdout",
     "output_type": "stream",
     "text": [
      "Marker: 1.49 x 2\n",
      "Marker: 1.49 x 5\n"
     ]
    }
   ],
   "source": [
    "print(item1)\n",
    "item1 += 3\n",
    "print(item1)"
   ]
  },
  {
   "cell_type": "code",
   "execution_count": 7,
   "metadata": {},
   "outputs": [
    {
     "name": "stdout",
     "output_type": "stream",
     "text": [
      "Marker: 1.49 x 5\n",
      "Marker: 1.49 x 3\n"
     ]
    }
   ],
   "source": [
    "print(item1)\n",
    "item1 -= 2\n",
    "print(item1)"
   ]
  },
  {
   "cell_type": "code",
   "execution_count": 8,
   "metadata": {},
   "outputs": [
    {
     "name": "stdout",
     "output_type": "stream",
     "text": [
      "2\n"
     ]
    },
    {
     "data": {
      "text/plain": [
       "True"
      ]
     },
     "execution_count": 8,
     "metadata": {},
     "output_type": "execute_result"
    }
   ],
   "source": [
    "class Cart:\n",
    "    def __init__(self):\n",
    "        self.cart = []\n",
    "        \n",
    "    def add_to_cart(self, item):\n",
    "#         if item\n",
    "        self.cart.append(item)\n",
    "        \n",
    "    def __len__(self):\n",
    "        return len(self.cart)\n",
    "    \n",
    "    def __contains__(self, item_name):\n",
    "        for item in self.cart:\n",
    "            if item.name.lower() == item_name.lower():\n",
    "                return True\n",
    "        return False\n",
    "    \n",
    "\n",
    "my_cart = Cart()\n",
    "\n",
    "my_cart.add_to_cart(item1)\n",
    "my_cart.add_to_cart(item2)\n",
    "\n",
    "print(len(my_cart))\n",
    "\n",
    "\n",
    "'MARKER' in my_cart"
   ]
  },
  {
   "cell_type": "markdown",
   "metadata": {},
   "source": [
    "#### In-class Exercise 1"
   ]
  },
  {
   "cell_type": "code",
   "execution_count": 12,
   "metadata": {},
   "outputs": [
    {
     "name": "stdout",
     "output_type": "stream",
     "text": [
      "1 Braxton: tiger\n",
      "2 Junior: hippo\n",
      "3 Kevin: zebra\n"
     ]
    },
    {
     "data": {
      "text/plain": [
       "<1 | Braxton tiger>"
      ]
     },
     "execution_count": 12,
     "metadata": {},
     "output_type": "execute_result"
    }
   ],
   "source": [
    "# Create a class Animal that displays the name and species when printed\n",
    "class Animal:\n",
    "        def __init__(self, id, name, species):\n",
    "                self.id = id\n",
    "                self.name = name\n",
    "                self.species = species\n",
    "        def __str__(self):\n",
    "                return f\"{self.id} {self.name}: {self.species}\"\n",
    "        def __repr__(self):\n",
    "                return f\"<{self.id} | {self.name} {self.species}>\"\n",
    "animal1 = Animal('1','Braxton','tiger')\n",
    "animal2 = Animal('2','Junior','hippo')\n",
    "animal3 = Animal('3','Kevin','zebra')\n",
    "print(animal1)\n",
    "print(animal2)\n",
    "print(animal3)\n",
    "(animal1)\n",
    "\n",
    "\n"
   ]
  },
  {
   "cell_type": "markdown",
   "metadata": {},
   "source": [
    "## Inheritance <br>\n",
    "<p>You can create a child-parent relationship between two classes by using inheritance. What this allows you to do is have overriding methods, but also inherit traits from the parent class. Think of it as an actual parent and child, the child will inherit the parent's genes, as will the classes in OOP</p>"
   ]
  },
  {
   "cell_type": "markdown",
   "metadata": {},
   "source": [
    "##### Syntax for Inheriting from a Parent Class"
   ]
  },
  {
   "cell_type": "code",
   "execution_count": 10,
   "metadata": {},
   "outputs": [
    {
     "ename": "IndentationError",
     "evalue": "expected an indented block (1189444140.py, line 4)",
     "output_type": "error",
     "traceback": [
      "\u001b[0;36m  Input \u001b[0;32mIn [10]\u001b[0;36m\u001b[0m\n\u001b[0;31m    sides=4\u001b[0m\n\u001b[0m    ^\u001b[0m\n\u001b[0;31mIndentationError\u001b[0m\u001b[0;31m:\u001b[0m expected an indented block\n"
     ]
    }
   ],
   "source": [
    "# Syntax: class Child(Parent):\n",
    "\n",
    "class Rectangle: #Parent class\n",
    "\n",
    "    def __init__(self, length, width):\n",
    "        self.length = length\n",
    "        self.width = width\n",
    "        \n",
    "    def __str__(self):\n",
    "        return f\"Length: {self.length} x Width: {self.width}\"\n",
    "        \n",
    "    def area(self):\n",
    "        print('This is from the Rectangle Class')\n",
    "        return self.length * self.width\n",
    "    \n",
    "    def perimeter(self):\n",
    "        #print('This is from the Rectangle Class')\n",
    "        return 2*(self.length) + 2*(self.width)\n",
    "    \n",
    "class Square(Rectangle):\n",
    "    def area(self):\n",
    "        print('This is from the Square Class')\n",
    "        return self.length * self.width\n",
    "    \n",
    "my_rectangle = Rectangle(10, 15)\n",
    "\n",
    "\n",
    "print(my_rectangle)\n",
    "print(my_rectangle.area())\n",
    "print(my_rectangle.perimeter())\n",
    "\n",
    "\n",
    "my_square = Square(10, 15)\n",
    "print(my_square)\n",
    "print(my_square.area())\n",
    "print(my_square.perimeter())"
   ]
  },
  {
   "cell_type": "code",
   "execution_count": 11,
   "metadata": {},
   "outputs": [
    {
     "name": "stdout",
     "output_type": "stream",
     "text": [
      "Help on class Square in module __main__:\n",
      "\n",
      "class Square(Rectangle)\n",
      " |  Square(length, width)\n",
      " |  \n",
      " |  Method resolution order:\n",
      " |      Square\n",
      " |      Rectangle\n",
      " |      builtins.object\n",
      " |  \n",
      " |  Methods defined here:\n",
      " |  \n",
      " |  area(self)\n",
      " |  \n",
      " |  ----------------------------------------------------------------------\n",
      " |  Methods inherited from Rectangle:\n",
      " |  \n",
      " |  __init__(self, length, width)\n",
      " |      Initialize self.  See help(type(self)) for accurate signature.\n",
      " |  \n",
      " |  perimeter(self)\n",
      " |  \n",
      " |  ----------------------------------------------------------------------\n",
      " |  Data descriptors inherited from Rectangle:\n",
      " |  \n",
      " |  __dict__\n",
      " |      dictionary for instance variables (if defined)\n",
      " |  \n",
      " |  __weakref__\n",
      " |      list of weak references to the object (if defined)\n",
      "\n"
     ]
    }
   ],
   "source": [
    "help(Square)"
   ]
  },
  {
   "cell_type": "markdown",
   "metadata": {},
   "source": [
    "##### The \\__init\\__() Method for a Child Class - super()"
   ]
  },
  {
   "cell_type": "code",
   "execution_count": 12,
   "metadata": {
    "scrolled": true
   },
   "outputs": [],
   "source": [
    "class Rectangle:\n",
    "    def __init__(self, length, width):\n",
    "        self.length = length\n",
    "        self.width = width\n",
    "\n",
    "    def area(self):\n",
    "        return self.length * self.width\n",
    "    \n",
    "    def perimeter(self):\n",
    "        return 2*(self.length) + 2*(self.width)\n",
    "    \n",
    "    \n",
    "class Square(Rectangle):\n",
    "    def __init__(self, side):\n",
    "        super().__init__(side, side)\n",
    "        self.hypotenuse = side * (2 **(1/2))\n",
    "        \n"
   ]
  },
  {
   "cell_type": "code",
   "execution_count": 13,
   "metadata": {},
   "outputs": [],
   "source": [
    "my_square = Square(4)"
   ]
  },
  {
   "cell_type": "code",
   "execution_count": 14,
   "metadata": {
    "scrolled": true
   },
   "outputs": [
    {
     "data": {
      "text/plain": [
       "16"
      ]
     },
     "execution_count": 14,
     "metadata": {},
     "output_type": "execute_result"
    }
   ],
   "source": [
    "my_square.area()"
   ]
  },
  {
   "cell_type": "code",
   "execution_count": 15,
   "metadata": {},
   "outputs": [
    {
     "data": {
      "text/plain": [
       "16"
      ]
     },
     "execution_count": 15,
     "metadata": {},
     "output_type": "execute_result"
    }
   ],
   "source": [
    "my_square.perimeter()"
   ]
  },
  {
   "cell_type": "markdown",
   "metadata": {},
   "source": [
    "#### In-class Exercise 2"
   ]
  },
  {
   "cell_type": "markdown",
   "metadata": {},
   "source": [
    "Create a Car class that has a drive and fill up method, and then create a Ford class that inherits from the car class."
   ]
  },
  {
   "cell_type": "code",
   "execution_count": 31,
   "metadata": {},
   "outputs": [
    {
     "ename": "TypeError",
     "evalue": "__init__() takes from 3 to 4 positional arguments but 5 were given",
     "output_type": "error",
     "traceback": [
      "\u001b[0;31m---------------------------------------------------------------------------\u001b[0m",
      "\u001b[0;31mTypeError\u001b[0m                                 Traceback (most recent call last)",
      "Input \u001b[0;32mIn [31]\u001b[0m, in \u001b[0;36m<cell line: 32>\u001b[0;34m()\u001b[0m\n\u001b[1;32m     26\u001b[0m         \u001b[38;5;124;03m\"\"\"Initialize attributes of the parent class.\"\"\"\u001b[39;00m\n\u001b[1;32m     27\u001b[0m         \u001b[38;5;28msuper\u001b[39m()\u001b[38;5;241m.\u001b[39m\u001b[38;5;21m__init__\u001b[39m(color, \u001b[38;5;124m'\u001b[39m\u001b[38;5;124mFord\u001b[39m\u001b[38;5;124m'\u001b[39m, model, gas_level)\n\u001b[0;32m---> 32\u001b[0m my_car \u001b[38;5;241m=\u001b[39m \u001b[43mFord\u001b[49m\u001b[43m(\u001b[49m\u001b[38;5;124;43m'\u001b[39;49m\u001b[38;5;124;43mblue\u001b[39;49m\u001b[38;5;124;43m'\u001b[39;49m\u001b[43m,\u001b[49m\u001b[43m \u001b[49m\u001b[38;5;124;43m'\u001b[39;49m\u001b[38;5;124;43mFocus\u001b[39;49m\u001b[38;5;124;43m'\u001b[39;49m\u001b[43m)\u001b[49m\n\u001b[1;32m     34\u001b[0m \u001b[38;5;28mprint\u001b[39m(my_car\u001b[38;5;241m.\u001b[39mmodel) \u001b[38;5;66;03m# 'Ford'\u001b[39;00m\n\u001b[1;32m     36\u001b[0m my_car\u001b[38;5;241m.\u001b[39mdrive(\u001b[38;5;241m5\u001b[39m) \u001b[38;5;66;03m# 'blue Ford Focus is driving'\u001b[39;00m\n",
      "Input \u001b[0;32mIn [31]\u001b[0m, in \u001b[0;36mFord.__init__\u001b[0;34m(self, color, model, gas_level)\u001b[0m\n\u001b[1;32m     25\u001b[0m \u001b[38;5;124;03m\"\"\"Represent aspects of a car, specific to Ford vehicles.\"\"\"\u001b[39;00m\n\u001b[1;32m     26\u001b[0m \u001b[38;5;124;03m\"\"\"Initialize attributes of the parent class.\"\"\"\u001b[39;00m\n\u001b[0;32m---> 27\u001b[0m \u001b[38;5;28;43msuper\u001b[39;49m\u001b[43m(\u001b[49m\u001b[43m)\u001b[49m\u001b[38;5;241;43m.\u001b[39;49m\u001b[38;5;21;43m__init__\u001b[39;49m\u001b[43m(\u001b[49m\u001b[43mcolor\u001b[49m\u001b[43m,\u001b[49m\u001b[43m \u001b[49m\u001b[38;5;124;43m'\u001b[39;49m\u001b[38;5;124;43mFord\u001b[39;49m\u001b[38;5;124;43m'\u001b[39;49m\u001b[43m,\u001b[49m\u001b[43m \u001b[49m\u001b[43mmodel\u001b[49m\u001b[43m,\u001b[49m\u001b[43m \u001b[49m\u001b[43mgas_level\u001b[49m\u001b[43m)\u001b[49m\n",
      "\u001b[0;31mTypeError\u001b[0m: __init__() takes from 3 to 4 positional arguments but 5 were given"
     ]
    }
   ],
   "source": [
    "class Car():\n",
    " \n",
    "    def __init__(self, color, model, gas_level=100):\n",
    "        \"\"\"A simple attempt to represent a car.\"\"\"\n",
    "        self.color = color\n",
    "        self.model = model\n",
    "        self.gas_level=gas_level\n",
    "\n",
    "    def drive(self)\n",
    "        unit_decrease=num_miles_driven //5\n",
    "        self.gas_level-=unit_decrease #self.gas_level = self.gas_level-unit_decrease\n",
    "        print(f\"The {self.color} {self.model} now has a gas level of {self.gas_level}\")\n",
    "        \n",
    "        \n",
    "    def fill_up(self):\n",
    "        unit_increase=gallons*10\n",
    "        self.gas_level += unit_increase\n",
    "        print(f\"The {self.color} {self.model} now has a gas level of {self.gas_level}\")\n",
    "    \n",
    "class Ford(Car):\n",
    "    \n",
    "    \n",
    "    \n",
    "    def __init__(self, color, model, gas_level=100):\n",
    "        \"\"\"Represent aspects of a car, specific to Ford vehicles.\"\"\"\n",
    "        \"\"\"Initialize attributes of the parent class.\"\"\"\n",
    "        super().__init__(color, 'Ford', model, gas_level)\n",
    "\n",
    "\n",
    "\n",
    "    \n",
    "my_car = Ford('blue', 'Focus')\n",
    "\n",
    "print(my_car.model) # 'Ford'\n",
    "\n",
    "my_car.drive(5) # 'blue Ford Focus is driving'\n",
    "\n",
    "my_car.fill_up(10) # 'Filling up blue Ford Focus'\n"
   ]
  },
  {
   "cell_type": "markdown",
   "metadata": {},
   "source": [
    "## Modules"
   ]
  },
  {
   "cell_type": "markdown",
   "metadata": {},
   "source": [
    "##### Importing Entire Modules"
   ]
  },
  {
   "cell_type": "code",
   "execution_count": 16,
   "metadata": {},
   "outputs": [
    {
     "name": "stdout",
     "output_type": "stream",
     "text": [
      "<module 'math' (built-in)>\n",
      "3.141592653589793\n",
      "120\n"
     ]
    },
    {
     "data": {
      "text/plain": [
       "6"
      ]
     },
     "execution_count": 16,
     "metadata": {},
     "output_type": "execute_result"
    }
   ],
   "source": [
    "# import name_of_module\n",
    "\n",
    "import math\n",
    "\n",
    "print(math)\n",
    "print(math.pi)\n",
    "\n",
    "print(math.factorial(5))\n",
    "math.factorial(3)"
   ]
  },
  {
   "cell_type": "markdown",
   "metadata": {},
   "source": [
    "##### Importing Methods Only"
   ]
  },
  {
   "cell_type": "code",
   "execution_count": 17,
   "metadata": {},
   "outputs": [
    {
     "name": "stdout",
     "output_type": "stream",
     "text": [
      "<function median at 0x0000014555936790>\n",
      "<function mean at 0x0000014555936550>\n",
      "375.5\n",
      "233.5\n"
     ]
    }
   ],
   "source": [
    "# from module_name import class, function, constant, etc.\n",
    "\n",
    "from statistics import mean, median\n",
    "\n",
    "\n",
    "print(median)\n",
    "print(mean)\n",
    "\n",
    "my_list = [13, 6, 234, 1346, 233, 335, 23, 6, 1235, 324]\n",
    "\n",
    "print(mean(my_list))\n",
    "print(median(my_list))"
   ]
  },
  {
   "cell_type": "markdown",
   "metadata": {},
   "source": [
    "##### Using the 'as' Keyword"
   ]
  },
  {
   "cell_type": "code",
   "execution_count": 18,
   "metadata": {},
   "outputs": [
    {
     "data": {
      "text/plain": [
       "94"
      ]
     },
     "execution_count": 18,
     "metadata": {},
     "output_type": "execute_result"
    }
   ],
   "source": [
    "# import module as new_name\n",
    "# from module import function as f\n",
    "\n",
    "from random import randint as ri\n",
    "\n",
    "ri(1, 100)"
   ]
  },
  {
   "cell_type": "code",
   "execution_count": 19,
   "metadata": {},
   "outputs": [
    {
     "name": "stdout",
     "output_type": "stream",
     "text": [
      "<module 'collections' from 'C:\\\\Users\\\\bstan\\\\anaconda3\\\\envs\\\\intro\\\\lib\\\\collections\\\\__init__.py'>\n",
      "Counter({'l': 3, 's': 3, 'd': 3, 'k': 3, 'f': 2, 'j': 2, 'a': 1})\n"
     ]
    }
   ],
   "source": [
    "import collections as c\n",
    "\n",
    "print(c)\n",
    "\n",
    "test = c.Counter('alsdkfdsklfjkldsj')\n",
    "print(test)"
   ]
  },
  {
   "cell_type": "code",
   "execution_count": 1,
   "metadata": {},
   "outputs": [
    {
     "name": "stdout",
     "output_type": "stream",
     "text": [
      "Hello this is the test module\n",
      "<module 'test_module' from '/Users/samb/Documents/codingtemple/week3/day2/test_module.py'>\n"
     ]
    }
   ],
   "source": [
    "# Using VS Code\n",
    "import test_module\n",
    "\n",
    "print(test_module)"
   ]
  },
  {
   "cell_type": "code",
   "execution_count": 2,
   "metadata": {},
   "outputs": [
    {
     "name": "stdout",
     "output_type": "stream",
     "text": [
      "HelloBrian. How are you today? I hope you are doing well!\n"
     ]
    }
   ],
   "source": [
    "test_module.greet('Brian')\n"
   ]
  },
  {
   "cell_type": "code",
   "execution_count": 3,
   "metadata": {},
   "outputs": [
    {
     "name": "stdout",
     "output_type": "stream",
     "text": [
      "HelloTaty. How are you today? I hope you are doing well!\n"
     ]
    }
   ],
   "source": [
    "from test_module import greet\n",
    "\n",
    "greet('Taty')"
   ]
  },
  {
   "cell_type": "code",
   "execution_count": 23,
   "metadata": {},
   "outputs": [
    {
     "name": "stdout",
     "output_type": "stream",
     "text": [
      "Goodbye Taty. It was great seeing you.\n"
     ]
    }
   ],
   "source": [
    "from test_module import leave as say_bye\n",
    "\n",
    "\n",
    "say_bye('Taty')"
   ]
  },
  {
   "cell_type": "code",
   "execution_count": 24,
   "metadata": {},
   "outputs": [
    {
     "name": "stdout",
     "output_type": "stream",
     "text": [
      "The __init__.py has been run\n"
     ]
    }
   ],
   "source": [
    "import folder_module"
   ]
  },
  {
   "cell_type": "code",
   "execution_count": 25,
   "metadata": {},
   "outputs": [
    {
     "data": {
      "text/plain": [
       "8"
      ]
     },
     "execution_count": 25,
     "metadata": {},
     "output_type": "execute_result"
    }
   ],
   "source": [
    "folder_module.add_nums(3, 5)"
   ]
  }
 ],
 "metadata": {
  "kernelspec": {
   "display_name": "Python 3 (ipykernel)",
   "language": "python",
   "name": "python3"
  },
  "language_info": {
   "codemirror_mode": {
    "name": "ipython",
    "version": 3
   },
   "file_extension": ".py",
   "mimetype": "text/x-python",
   "name": "python",
   "nbconvert_exporter": "python",
   "pygments_lexer": "ipython3",
   "version": "3.9.12"
  }
 },
 "nbformat": 4,
 "nbformat_minor": 2
}
